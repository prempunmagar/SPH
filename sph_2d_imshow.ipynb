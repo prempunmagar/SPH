import numpy as np
import matplotlib.pyplot as plt

# Some constants
N = 1 # number of particles
h = 0.15 # smoothing length
m = 1.0 # particle mass
d = 2 # spatial dimension
grid_size = 100 # size of the grid

# Generate random particle locations
particles = np.random.rand(N, 2)
particles_x = particles[:,0]
particles_y = particles[:,1]


sigma = [2/3,10/(7*np.pi),1/np.pi][d-1]

# Define the smoothing kernel
def W(dist, h):
    q = dist / h
    if q < 0 or q > 2:
        return 0
    elif q < 1:
        return sigma*(1/4)*(2-q)**3 - (1-q)**3
    else:
        return sigma*(1/4)*(2-q)**3

# Create an array of zeros for every grid node
density = np.zeros((grid_size, grid_size))

# Calculate the density for every grid node
for i in range(grid_size):
    for j in range(grid_size):
        for particle in particles:
            x = (i/grid_size - particle[0])
            y = (j/grid_size - particle[1]) 
            dist = np.sqrt(x**2 + y**2)
            density[i, j] += m*W(dist, h)

# Plot the density graph
plt.imshow(density.T, cmap="gnuplot2")
plt.colorbar(label="Density")
plt.scatter(particles_x*grid_size, particles_y*grid_size,s=5, color='red')
